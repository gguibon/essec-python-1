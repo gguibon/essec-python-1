{
 "cells": [
  {
   "cell_type": "markdown",
   "metadata": {
    "slideshow": {
     "slide_type": "slide"
    }
   },
   "source": [
    "\n",
    "# Interactive Slides for Teaching Python\n",
    "----\n",
    "\n",
    "## Developer meetup\n",
    "\n",
    "### ALMANACH team\n",
    "\n",
    "[gael.guibon@inria.fr](gael.guibon@inria.fr)\n",
    "\n",
    "2019/10/29"
   ]
  },
  {
   "cell_type": "markdown",
   "metadata": {
    "slideshow": {
     "slide_type": "slide"
    }
   },
   "source": [
    "# Requirements\n",
    "---\n",
    "- Jupyter Notebook : interpreted cell editing for python\n",
    "- RevealJS : javascript slideshows\n"
   ]
  },
  {
   "cell_type": "markdown",
   "metadata": {
    "slideshow": {
     "slide_type": "slide"
    }
   },
   "source": [
    "# What is RISE ?\n",
    "- Jupyter notebook -> **interactive** revealjs slides\n",
    "- Allows markdown\n",
    "- Can revert from slide to notebook\n",
    "- https://rise.readthedocs.io/en/maint-5.5/\n",
    "- Need a 'postBuild' and 'requirements.txt' files"
   ]
  },
  {
   "cell_type": "markdown",
   "metadata": {},
   "source": [
    "# Advantages\n",
    "- **Fast** content creation: for lazy people (Really fast)\n",
    "- **Teach by examples:** can adapt some example or run it live\n",
    "- **Customizable**\n",
    "- **Exports**: html, py, ipynb, pdf... convenient for students"
   ]
  },
  {
   "cell_type": "markdown",
   "metadata": {
    "slideshow": {
     "slide_type": "skip"
    }
   },
   "source": [
    "# This will be skipped !"
   ]
  },
  {
   "cell_type": "markdown",
   "metadata": {
    "slideshow": {
     "slide_type": "slide"
    }
   },
   "source": [
    "# A reveal js slide"
   ]
  },
  {
   "cell_type": "markdown",
   "metadata": {
    "slideshow": {
     "slide_type": "subslide"
    }
   },
   "source": [
    "# A reveal js fragment"
   ]
  },
  {
   "cell_type": "markdown",
   "metadata": {
    "slideshow": {
     "slide_type": "slide"
    }
   },
   "source": [
    "# Binder for Students Participation\n",
    "\n",
    "Binder + RISE + Jupyter Notebook = really cool interactive slides"
   ]
  },
  {
   "cell_type": "markdown",
   "metadata": {
    "slideshow": {
     "slide_type": "slide"
    }
   },
   "source": [
    "## Reminder: Binder\n",
    "- Links a github repository and target a ipynb file\n",
    "- Starts the jupyter notebook\n",
    "- Creates a new session for each anon user"
   ]
  },
  {
   "cell_type": "markdown",
   "metadata": {},
   "source": [
    "## Pros\n",
    "- No need for local installation\n",
    "- Test, modify, learn\n",
    "\n",
    "## Cons\n",
    "- Temporary server\n",
    "- Need a stable connexion"
   ]
  }
 ],
 "metadata": {
  "celltoolbar": "Diaporama",
  "kernelspec": {
   "display_name": "Python 3",
   "language": "python",
   "name": "python3"
  },
  "language_info": {
   "codemirror_mode": {
    "name": "ipython",
    "version": 3
   },
   "file_extension": ".py",
   "mimetype": "text/x-python",
   "name": "python",
   "nbconvert_exporter": "python",
   "pygments_lexer": "ipython3",
   "version": "3.7.4"
  },
  "livereveal": {
   "autolaunch": true,
   "scroll": true,
   "transition": "none"
  }
 },
 "nbformat": 4,
 "nbformat_minor": 2
}
