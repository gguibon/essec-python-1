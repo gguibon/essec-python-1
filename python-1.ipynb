{
 "cells": [
  {
   "cell_type": "markdown",
   "metadata": {
    "slideshow": {
     "slide_type": "slide"
    }
   },
   "source": [
    "<center>\n",
    "    \n",
    "# Introduction to Programming – Python\n",
    "----\n",
    "\n",
    "## Course 1 – first steps\n",
    "\n",
    "### ESSEC Business School\n",
    "\n",
    "[gael.guibon@inria.fr](gael.guibon@inria.fr)\n",
    "\n",
    "</center>"
   ]
  },
  {
   "cell_type": "markdown",
   "metadata": {
    "slideshow": {
     "slide_type": "slide"
    }
   },
   "source": [
    "# A program\n",
    "---\n",
    "* A program is a **set of instructions**\n",
    "    * Orders for the machine to execute later on\n",
    "* A program will be compilated for the machine to understand it\n",
    "* A compilated program is only binary code\n"
   ]
  },
  {
   "cell_type": "markdown",
   "metadata": {
    "slideshow": {
     "slide_type": "subslide"
    }
   },
   "source": [
    "# Programming languages\n",
    "---\n",
    "* Languages are divided by level :\n",
    "    1. High level: **Python**, Java, etc.\n",
    "    2. Low-Level: COBOL, FORTRAN, C, etc.\n",
    "    3. Assembly: some CPUs\n",
    "    4. Machine code\n",
    "    5. Micro-code: CPUs\n",
    "    "
   ]
  },
  {
   "cell_type": "markdown",
   "metadata": {
    "slideshow": {
     "slide_type": "subslide"
    }
   },
   "source": [
    "# What you need\n",
    "----\n",
    "* Logic:\n",
    "    * Propositional logic\n",
    "    * First-order logic\n",
    "    * Predicate logic\n",
    "* Rigor:\n",
    "    * Verify everything, every character, every content\n",
    "    * Order is important!\n",
    "* Patience:\n",
    "    * Verify/understand error logs\n",
    "    * Proceed step by step\n"
   ]
  },
  {
   "cell_type": "markdown",
   "metadata": {
    "slideshow": {
     "slide_type": "subslide"
    }
   },
   "source": [
    "# What you will learn\n",
    "----\n",
    "1. To **understand** and use basic types\n",
    "2. To **implement** simple logic\n",
    "3. To **write** simple code"
   ]
  },
  {
   "cell_type": "markdown",
   "metadata": {
    "slideshow": {
     "slide_type": "slide"
    }
   },
   "source": [
    "# Python\n",
    "Python is a high level programming language under free licence. It was created by Guido Van Rossum but since 2001 the development is lead by the [Python Software Foundation](http://www.python.org/psf/) (Guido was the *\"benevolent dictator for life\"* until july 2018).\n",
    "\n",
    "Language evolutions are detailed in Python Enhancement Proposals (PEP).\n",
    "\n",
    "## Python functions\n",
    "To know what does each native Python functions, you need to access the documentation.\n",
    "* type : `help(print)`   \n",
    "<small>`q` to exit the doc</small>\n",
    "* in your browser : [https://docs.python.org/3/library/functions.html](https://docs.python.org/3/library/functions.html)\n",
    "* or : [DevDocs](http://devdocs.io/)"
   ]
  },
  {
   "cell_type": "markdown",
   "metadata": {
    "slideshow": {
     "slide_type": "slide"
    }
   },
   "source": [
    "Famous PEPs:\n",
    "* [PEP 20](https://www.python.org/dev/peps/pep-0020/) \"Zen of Python\"<sup>1</sup> ( `import this` in python console)\n",
    "* [PEP 8](https://www.python.org/dev/peps/pep-0008/) \"Style Guide for Python Code\"\n",
    "\n",
    "<sup>1</sup> \"There should be one-- and preferably only one --obvious way to do it.\""
   ]
  },
  {
   "cell_type": "code",
   "execution_count": null,
   "metadata": {},
   "outputs": [],
   "source": [
    "# show the code guidelines for Python\n",
    "import this"
   ]
  },
  {
   "cell_type": "markdown",
   "metadata": {
    "slideshow": {
     "slide_type": "slide"
    }
   },
   "source": [
    "# A basic instruction\n",
    "\n",
    "We can print anything by using the `print()` function.\n",
    "\n",
    "```python\n",
    "print( SOMETHING )\n",
    "```\n",
    "\n"
   ]
  },
  {
   "cell_type": "code",
   "execution_count": null,
   "metadata": {},
   "outputs": [],
   "source": [
    "# what does the print() function ?\n",
    "help(print)"
   ]
  },
  {
   "cell_type": "code",
   "execution_count": null,
   "metadata": {},
   "outputs": [],
   "source": [
    "print('Hello world')"
   ]
  },
  {
   "cell_type": "markdown",
   "metadata": {},
   "source": [
    "* Principle: 1 line = 1 instruction\n",
    "* Everything after `#` is a comment\n",
    "```python\n",
    "# this is a comment !!!\n",
    "```"
   ]
  },
  {
   "cell_type": "code",
   "execution_count": null,
   "metadata": {},
   "outputs": [],
   "source": [
    "print('hey') #first instruction\n",
    "print('you') #second instruction (order is important)"
   ]
  },
  {
   "cell_type": "markdown",
   "metadata": {
    "slideshow": {
     "slide_type": "slide"
    }
   },
   "source": [
    "# Variables\n",
    "* Variables are data containers.\n",
    "* `=` is used to put value into a variable\n",
    "* Variable's content can be put into another variable\n",
    "```python\n",
    "variable1 = variable2\n",
    "```"
   ]
  },
  {
   "cell_type": "code",
   "execution_count": null,
   "metadata": {},
   "outputs": [],
   "source": [
    "name = 'Gaël'\n",
    "print(name)"
   ]
  },
  {
   "cell_type": "code",
   "execution_count": null,
   "metadata": {},
   "outputs": [],
   "source": [
    "# variables values\n",
    "lastname = 'Guibon'\n",
    "firstname = 'Gaël'\n",
    "print(lastname)\n",
    "print(firstname)\n",
    "lastname = firstname\n",
    "print(lastname, firstname) # multiple arguments can be passed into print function. \n",
    "# They will automatically be separated by a space."
   ]
  },
  {
   "cell_type": "markdown",
   "metadata": {
    "slideshow": {
     "slide_type": "slide"
    }
   },
   "source": [
    "# Variables names\n",
    "Variables can have any names **EXCEPT the already declared keywords**.\n",
    "To show all the python keywords do:"
   ]
  },
  {
   "cell_type": "code",
   "execution_count": null,
   "metadata": {},
   "outputs": [],
   "source": [
    "import keyword # import libraries. this one is a standard library\n",
    "print(keyword.kwlist)"
   ]
  },
  {
   "cell_type": "markdown",
   "metadata": {
    "slideshow": {
     "slide_type": "slide"
    }
   },
   "source": [
    "* Variable names are alphanumeric values (upper or lowercase), or/and numbers, or/and underscores. Nothing more.\n",
    "* Variable names need to be clear and understandable. For instance:\n",
    "```python\n",
    "birthdayDate = '01012005' # good\n",
    "date = '01012005' # bad\n",
    "xyhzi = '010120005' # very bad\n",
    "```\n",
    "* It is recommended to follow the official Python advices [PEP 8](https://www.python.org/dev/peps/pep-0008/).\n",
    "\n"
   ]
  },
  {
   "cell_type": "code",
   "execution_count": null,
   "metadata": {},
   "outputs": [],
   "source": [
    "# Python does not accept this kind of variable name\n",
    "my-super-username = 'Robert' # known as KebabCase"
   ]
  },
  {
   "cell_type": "code",
   "execution_count": null,
   "metadata": {},
   "outputs": [],
   "source": [
    "1_does_not_work = 'bad name'"
   ]
  },
  {
   "cell_type": "code",
   "execution_count": null,
   "metadata": {},
   "outputs": [],
   "source": [
    "# Use this instead\n",
    "mySuperUsername = 'Robert' # known as CamelCase\n",
    "# or this\n",
    "my_super_username = 'Robert' # known as SnakeCase\n",
    "# print them to see that it works"
   ]
  },
  {
   "cell_type": "markdown",
   "metadata": {
    "slideshow": {
     "slide_type": "slide"
    }
   },
   "source": [
    "# Arithmetic Operators\n",
    "\n",
    "`+` addition  "
   ]
  },
  {
   "cell_type": "code",
   "execution_count": null,
   "metadata": {
    "slideshow": {
     "slide_type": "-"
    }
   },
   "outputs": [],
   "source": [
    "2 + 5 "
   ]
  },
  {
   "cell_type": "markdown",
   "metadata": {
    "slideshow": {
     "slide_type": "-"
    }
   },
   "source": [
    "`-` substraction"
   ]
  },
  {
   "cell_type": "code",
   "execution_count": null,
   "metadata": {
    "slideshow": {
     "slide_type": "-"
    }
   },
   "outputs": [],
   "source": [
    "3 - 2"
   ]
  },
  {
   "cell_type": "markdown",
   "metadata": {
    "slideshow": {
     "slide_type": "subslide"
    }
   },
   "source": [
    "`*` multiplication"
   ]
  },
  {
   "cell_type": "code",
   "execution_count": null,
   "metadata": {
    "slideshow": {
     "slide_type": "-"
    }
   },
   "outputs": [],
   "source": [
    "2 * 3"
   ]
  },
  {
   "cell_type": "markdown",
   "metadata": {
    "slideshow": {
     "slide_type": "-"
    }
   },
   "source": [
    "`/` division"
   ]
  },
  {
   "cell_type": "code",
   "execution_count": null,
   "metadata": {
    "slideshow": {
     "slide_type": "-"
    }
   },
   "outputs": [],
   "source": [
    "36 / 6"
   ]
  },
  {
   "cell_type": "markdown",
   "metadata": {
    "slideshow": {
     "slide_type": "subslide"
    }
   },
   "source": [
    "`%` modulus (division remainder)"
   ]
  },
  {
   "cell_type": "code",
   "execution_count": null,
   "metadata": {
    "slideshow": {
     "slide_type": "-"
    }
   },
   "outputs": [],
   "source": [
    "36 % 8"
   ]
  },
  {
   "cell_type": "markdown",
   "metadata": {},
   "source": [
    "`//` Floor division (cut the result after the period)"
   ]
  },
  {
   "cell_type": "code",
   "execution_count": null,
   "metadata": {},
   "outputs": [],
   "source": [
    "3 // 2"
   ]
  },
  {
   "cell_type": "markdown",
   "metadata": {
    "slideshow": {
     "slide_type": "subslide"
    }
   },
   "source": [
    "`**` exponent"
   ]
  },
  {
   "cell_type": "code",
   "execution_count": null,
   "metadata": {
    "scrolled": true,
    "slideshow": {
     "slide_type": "-"
    }
   },
   "outputs": [],
   "source": [
    "10 ** 2 * 4"
   ]
  },
  {
   "cell_type": "markdown",
   "metadata": {
    "slideshow": {
     "slide_type": "-"
    }
   },
   "source": [
    "* Operation order and priorities are the same as in mathematics\n",
    "* You can use parenthesis to define priorities"
   ]
  },
  {
   "cell_type": "code",
   "execution_count": null,
   "metadata": {
    "slideshow": {
     "slide_type": "-"
    }
   },
   "outputs": [],
   "source": [
    "36 / (2*3)"
   ]
  },
  {
   "cell_type": "markdown",
   "metadata": {
    "slideshow": {
     "slide_type": "subslide"
    }
   },
   "source": [
    "* Of course, it works with variables"
   ]
  },
  {
   "cell_type": "code",
   "execution_count": null,
   "metadata": {},
   "outputs": [],
   "source": [
    "a = 3\n",
    "b = 2\n",
    "print(a*b)"
   ]
  },
  {
   "cell_type": "markdown",
   "metadata": {
    "slideshow": {
     "slide_type": "slide"
    }
   },
   "source": [
    "# Variable types\n",
    "* Data can have different forms, same goes for variables\n",
    "* Each variable has a **Type**\n",
    "* Here are the most commons types in Python:\n",
    "    * **String**: str() : string of characters (text)\n",
    "    * **Integer**: int() : integer numbers\n",
    "    * **Float**: float() : numbers with floating decimal points\n",
    "    * **Boolean**: bool() : True or False\n",
    "    * Long (*not in Python*)\n",
    "    * Char (*not in Python*)\n",
    "* Python is a strong dynamic typed language\n",
    "    * dynamic = variable type is determined by the interpretor (compilor)\n",
    "    * strong = no implicit conversion of types"
   ]
  },
  {
   "cell_type": "markdown",
   "metadata": {
    "slideshow": {
     "slide_type": "slide"
    }
   },
   "source": [
    "* Try this :"
   ]
  },
  {
   "cell_type": "code",
   "execution_count": null,
   "metadata": {
    "slideshow": {
     "slide_type": "-"
    }
   },
   "outputs": [],
   "source": [
    "\"Hello\" + 1"
   ]
  },
  {
   "cell_type": "markdown",
   "metadata": {},
   "source": [
    "It does not work as we try to concatenate a String (str) with an Integer (int).\n",
    "\n",
    "You can find the variable's type with `type()` function."
   ]
  },
  {
   "cell_type": "code",
   "execution_count": null,
   "metadata": {},
   "outputs": [],
   "source": [
    "print( type('hello world') )\n",
    "print( type(23) )\n",
    "print( type(False) )\n",
    "print( type(23.45) )"
   ]
  },
  {
   "cell_type": "markdown",
   "metadata": {
    "slideshow": {
     "slide_type": "slide"
    }
   },
   "source": [
    "## Type conversion\n",
    "* `str()`, `int()`, `float()` convert the passed argument as the desired type\n",
    "* `bool()` returns `True` if the argument is true, `False` otherwise."
   ]
  },
  {
   "cell_type": "code",
   "execution_count": null,
   "metadata": {
    "slideshow": {
     "slide_type": "-"
    }
   },
   "outputs": [],
   "source": [
    "int(3.14159265359) # transforms a float into an integer"
   ]
  },
  {
   "cell_type": "code",
   "execution_count": null,
   "metadata": {
    "slideshow": {
     "slide_type": "-"
    }
   },
   "outputs": [],
   "source": [
    "\"Hello\" + str(1) # transforms an integer into a String and concatenate both Strings"
   ]
  },
  {
   "cell_type": "markdown",
   "metadata": {},
   "source": [
    "# Strings Operations\n",
    "* Concaténate Strings: `+`"
   ]
  },
  {
   "cell_type": "code",
   "execution_count": null,
   "metadata": {
    "slideshow": {
     "slide_type": "-"
    }
   },
   "outputs": [],
   "source": [
    "\"Hello\" + \"world\""
   ]
  },
  {
   "cell_type": "code",
   "execution_count": null,
   "metadata": {
    "slideshow": {
     "slide_type": "-"
    }
   },
   "outputs": [],
   "source": [
    "\"Hello\" + \" \" + \"world\""
   ]
  },
  {
   "cell_type": "markdown",
   "metadata": {
    "slideshow": {
     "slide_type": "subslide"
    }
   },
   "source": [
    "* Strings can be surrounded by simple quotes `'hello'` or double quotes `\"hello\"`\n",
    "* If your work contains a simple quote use double quotes:\n",
    "```python\n",
    "negation = \"don't do that!\"\n",
    "```"
   ]
  },
  {
   "cell_type": "code",
   "execution_count": null,
   "metadata": {
    "slideshow": {
     "slide_type": "-"
    }
   },
   "outputs": [],
   "source": [
    "'it doesn't work'"
   ]
  },
  {
   "cell_type": "code",
   "execution_count": null,
   "metadata": {
    "slideshow": {
     "slide_type": "-"
    }
   },
   "outputs": [],
   "source": [
    "\"It doesn't work? Oh yes it does!\""
   ]
  },
  {
   "cell_type": "markdown",
   "metadata": {},
   "source": [
    "* you can always escape special characters with `\\` to indicate to not parse them"
   ]
  },
  {
   "cell_type": "code",
   "execution_count": null,
   "metadata": {},
   "outputs": [],
   "source": [
    "'It doesn\\'t work? Oh yes it does!'"
   ]
  },
  {
   "cell_type": "markdown",
   "metadata": {
    "slideshow": {
     "slide_type": "subslide"
    }
   },
   "source": [
    "Les PEP les plus célèbres sont\n",
    "* [PEP 20](https://www.python.org/dev/peps/pep-0020/) \"Zen of Python\"<sup>1</sup> (tapez `import this` dans une console)\n",
    "* [PEP 8](https://www.python.org/dev/peps/pep-0008/) \"Style Guide for Python Code\"\n",
    "\n",
    "<sup>1</sup> \"There should be one-- and preferably only one --obvious way to do it.\" Tacle par derrière sur Perl, c'est pas joli-joli."
   ]
  },
  {
   "cell_type": "markdown",
   "metadata": {
    "slideshow": {
     "slide_type": "slide"
    }
   },
   "source": [
    "# Help !\n",
    "\n",
    "Nous venons d'utiliser 4 fonctions.\n",
    "\n",
    "Avant d'utiliser une fonction il est indispensable de savoir : ce que fait la fonction, quels sont les paramètres attendus, quelle est la valeur de retour.\n",
    "\n",
    "Pour accéder à la documentation d'une fonction :\n",
    "* dans la console : `help(int)` <small>(d'une fonction ou d'une classe ou d'un module)</small>  \n",
    "<small>`q` pour sortir de la doc</small>\n",
    "* sur le web : [https://docs.python.org/3/library/functions.html](https://docs.python.org/3/library/functions.html)\n",
    "* ou bien : [DevDocs](http://devdocs.io/)"
   ]
  },
  {
   "cell_type": "markdown",
   "metadata": {
    "slideshow": {
     "slide_type": "slide"
    }
   },
   "source": [
    "# Les structures conditionnelles\n",
    "\n",
    "```python\n",
    "if condition:\n",
    "    #begin of block\n",
    "    instruction1\n",
    "    instruction2\n",
    "    #end of block\n",
    "\n",
    "```\n"
   ]
  },
  {
   "cell_type": "markdown",
   "metadata": {
    "slideshow": {
     "slide_type": "subslide"
    }
   },
   "source": [
    "### Opérateurs de comparaison\n",
    "`<`  inférieur  / `<=` inférieur ou égal  \n",
    "`>`  supérieur  / `>=` supérieur ou égal  \n",
    "`==` égal  / `!=` non égal  \n",
    "`is` identité (pour les objets surtout)  / `is not` non identité  "
   ]
  },
  {
   "cell_type": "code",
   "execution_count": null,
   "metadata": {
    "slideshow": {
     "slide_type": "-"
    }
   },
   "outputs": [],
   "source": [
    "x = 4\n",
    "if x > 3:\n",
    "    print(\"x a grandi\")"
   ]
  },
  {
   "cell_type": "code",
   "execution_count": null,
   "metadata": {
    "slideshow": {
     "slide_type": "-"
    }
   },
   "outputs": [],
   "source": [
    "if x > 3:\n",
    "    print(\"x a grandi\")\t   \n",
    "else:\n",
    "    print(\"x n'a pas grandi\")"
   ]
  },
  {
   "cell_type": "markdown",
   "metadata": {
    "slideshow": {
     "slide_type": "subslide"
    }
   },
   "source": [
    "### Opérateurs booléens\n",
    "``not`` négation  \n",
    "``and`` conjonction (True si les deux opérandes sont vraies, False sinon)  \n",
    "``or``  disjonction (True si une des deux opérandes est vraie)  "
   ]
  },
  {
   "cell_type": "code",
   "execution_count": null,
   "metadata": {
    "slideshow": {
     "slide_type": "-"
    }
   },
   "outputs": [],
   "source": [
    "if x > 3 and x <= 5:\n",
    "    print(\"x a grandi, un peu\")\t   \n",
    "elif x > 5:\n",
    "    print(\"x a grandi\")\n",
    "else:\n",
    "    print(\"x n'a pas grandi\")"
   ]
  },
  {
   "cell_type": "markdown",
   "metadata": {
    "slideshow": {
     "slide_type": "subslide"
    }
   },
   "source": [
    "### Opérateurs booléens\n",
    "#### Exos\n",
    "\n",
    "* Écrire un script qui détermine si un nombre donné est pair ou impair\n",
    "* Chifoumi version 1"
   ]
  },
  {
   "cell_type": "markdown",
   "metadata": {
    "slideshow": {
     "slide_type": "slide"
    }
   },
   "source": [
    "# Les listes\n",
    "#### Vite fait, on y reviendra\n",
    "\n",
    "* Une liste une structure de données ordonnée\n",
    "* Une liste peut contenir plusieurs valeurs, variables, listes, objets, ... le tout de types différents\n",
    "* On accède à un élément de la liste par son indice (de 0 à n-1, n étant le nombre d'éléments)"
   ]
  },
  {
   "cell_type": "code",
   "execution_count": null,
   "metadata": {
    "slideshow": {
     "slide_type": "-"
    }
   },
   "outputs": [],
   "source": [
    "voyelles = []\n",
    "voyelles = ['a', 'e', 'i', 'o', 'u']    \n",
    "voyelles[0]    "
   ]
  },
  {
   "cell_type": "markdown",
   "metadata": {
    "slideshow": {
     "slide_type": "slide"
    }
   },
   "source": [
    "# Les dictionnaires\n",
    "#### Vite fait, on y reviendra\n",
    "\t\t\t\n",
    "* Un dictionnaire est une structure de données associative de type 'clé' => 'valeur'\n",
    "* Les données ne sont pas ordonnées comme dans les listes\n",
    "* On accède à une valeur par sa clé\n",
    "* Les clés sont uniques, on ne peut pas associer deux valeurs à une même clé    \n",
    "* `keys()` renvoie la liste des clés, `values()` la liste des valeurs"
   ]
  },
  {
   "cell_type": "code",
   "execution_count": null,
   "metadata": {
    "slideshow": {
     "slide_type": "subslide"
    }
   },
   "outputs": [],
   "source": [
    "couleurs = {'a':'noir', 'e':'blanc', 'i':'rouge', 'u':'vert', 'o':'bleu'}\n",
    "couleurs['i'] = \"pourpre\"\n",
    "couleurs"
   ]
  },
  {
   "cell_type": "code",
   "execution_count": null,
   "metadata": {
    "slideshow": {
     "slide_type": "-"
    }
   },
   "outputs": [],
   "source": [
    "couleurs.keys()"
   ]
  },
  {
   "cell_type": "markdown",
   "metadata": {
    "slideshow": {
     "slide_type": "slide"
    }
   },
   "source": [
    "# Les boucles\n",
    "#### Vite fait, on y reviendra\n",
    "\n",
    "* Les boucles `while` nécessitent que la valeur utilisée dans la condition d'arrêt soit modifiée dans le corps de la boucle.\n",
    "* Les boucles `for` s'appliquent aux objets de type \"iterables\" (liste, chaîne de car., dict.items())"
   ]
  },
  {
   "cell_type": "code",
   "execution_count": null,
   "metadata": {
    "slideshow": {
     "slide_type": "-"
    }
   },
   "outputs": [],
   "source": [
    "i = 1\n",
    "while i < 5:\n",
    "    print(i)\n",
    "    i = i + 1"
   ]
  },
  {
   "cell_type": "code",
   "execution_count": null,
   "metadata": {
    "slideshow": {
     "slide_type": "subslide"
    }
   },
   "outputs": [],
   "source": [
    "for item in voyelles:\n",
    "    print(item)"
   ]
  },
  {
   "cell_type": "code",
   "execution_count": null,
   "metadata": {
    "slideshow": {
     "slide_type": "-"
    }
   },
   "outputs": [],
   "source": [
    "for item in couleurs.keys():\n",
    "    print(item)"
   ]
  },
  {
   "cell_type": "code",
   "execution_count": null,
   "metadata": {
    "slideshow": {
     "slide_type": "-"
    }
   },
   "outputs": [],
   "source": [
    "for key, value in couleurs.items():\n",
    "    print(key, value)"
   ]
  },
  {
   "cell_type": "markdown",
   "metadata": {
    "slideshow": {
     "slide_type": "slide"
    }
   },
   "source": [
    "# Les fonctions\n",
    "### Vite fait, on y reviendra\n",
    "\n",
    "```python\n",
    "def ma_fonction(arg1, arg2):\n",
    "    \"\"\" description de la fonction \"\"\"\n",
    "    instruction1\n",
    "    instruction2\n",
    "    return(resultat)\n",
    "```\n",
    "* L'ordre des arguments est déterminant\n",
    "* Il est possible d'outrepasser l'ordre en nommant les arguments lors de l'appel de fonction    \n"
   ]
  },
  {
   "cell_type": "code",
   "execution_count": null,
   "metadata": {
    "slideshow": {
     "slide_type": "subslide"
    }
   },
   "outputs": [],
   "source": [
    "def soustraction(arg1, arg2):\n",
    "    res = arg1 - arg2\n",
    "    return res"
   ]
  },
  {
   "cell_type": "code",
   "execution_count": null,
   "metadata": {
    "slideshow": {
     "slide_type": "-"
    }
   },
   "outputs": [],
   "source": [
    "diff = soustraction(5, 3)    \n",
    "diff"
   ]
  },
  {
   "cell_type": "code",
   "execution_count": null,
   "metadata": {
    "slideshow": {
     "slide_type": "-"
    }
   },
   "outputs": [],
   "source": [
    "diff = soustraction(3, 5)    \n",
    "diff"
   ]
  },
  {
   "cell_type": "code",
   "execution_count": null,
   "metadata": {
    "slideshow": {
     "slide_type": "-"
    }
   },
   "outputs": [],
   "source": [
    "diff = soustraction(arg2=5, arg1=3)    \n",
    "diff"
   ]
  },
  {
   "cell_type": "markdown",
   "metadata": {
    "slideshow": {
     "slide_type": "slide"
    }
   },
   "source": [
    "# Exos\n",
    "\n",
    "Vous rendrez des scripts Python3. Avec des commentaires c'est mieux.      \n",
    "      \n",
    "1. Finir le chifoumi\n",
    "2. Faire un jeu un peu sur le modèle du chifoumi où l'utilisateur doit deviner un chiffre entre 1 et 10 (10 inclus). 5 essais possibles. Le jeu doit donner des indications (trop grand, trop petit) à chaque essai.\n",
    "3. Résoudre [Power of Thor - Episode 1](https://www.codingame.com/training/easy/power-of-thor-episode-1) sur CodinGame"
   ]
  }
 ],
 "metadata": {
  "celltoolbar": "Diaporama",
  "kernelspec": {
   "display_name": "Python 3",
   "language": "python",
   "name": "python3"
  },
  "language_info": {
   "codemirror_mode": {
    "name": "ipython",
    "version": 3
   },
   "file_extension": ".py",
   "mimetype": "text/x-python",
   "name": "python",
   "nbconvert_exporter": "python",
   "pygments_lexer": "ipython3",
   "version": "3.7.4"
  },
  "livereveal": {
   "autolaunch": true,
   "scroll": true,
   "transition": "none"
  }
 },
 "nbformat": 4,
 "nbformat_minor": 2
}
