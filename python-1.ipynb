{
 "cells": [
  {
   "cell_type": "markdown",
   "metadata": {
    "slideshow": {
     "slide_type": "slide"
    }
   },
   "source": [
    "# Introduction to Programming – Python\n",
    "\n",
    "## Course 1 – first steps\n",
    "\n",
    "### ESSEC Business School\n",
    "\n",
    "(gael.guibon@inria.fr)[gael.guibon@inria.fr]"
   ]
  },
  {
   "cell_type": "markdown",
   "metadata": {
    "slideshow": {
     "slide_type": "slide"
    }
   },
   "source": [
    "# Introduction\n",
    "\n",
    "## A program\n",
    "* A program is a set of instructions\n",
    "    * Orders for the machine to execute later on\n",
    "* A program will be compilated for the machine to understand it\n",
    "* A compilated program is only binary code\n",
    "\n",
    "## Programming languages\n",
    "* Languages are divided by level :\n",
    "    1. High level: **Python**, Java, etc.\n",
    "    2. Low-Level: COBOL, FORTRAN, C, etc.\n",
    "    3. Assembly: some CPUs\n",
    "    4. Machine code\n",
    "    5. Micro-code: CPUs"
   ]
  },
  {
   "cell_type": "markdown",
   "metadata": {
    "slideshow": {
     "slide_type": "subslide"
    }
   },
   "source": [
    "# Avant de commencer (2)\n",
    "\n",
    "Pour exécuter vos scripts, deux options :  \n",
    "\n",
    "`> python3 mon_script.py`\n",
    "\n",
    "ou <small>(mais pourquoi faire compliqué ?)</small>\n",
    "\n",
    "`> chmod u+x`  \n",
    "`> ./mon_script.py` en ajoutant ce shebang en première ligne :  \n",
    "`#!/usr/bin/env python3`\n"
   ]
  },
  {
   "cell_type": "markdown",
   "metadata": {
    "slideshow": {
     "slide_type": "slide"
    }
   },
   "source": [
    "# Opérateurs mathématiques\n",
    "\n",
    "`+` addition  "
   ]
  },
  {
   "cell_type": "code",
   "execution_count": null,
   "metadata": {
    "slideshow": {
     "slide_type": "-"
    }
   },
   "outputs": [],
   "source": [
    "2 + 5 "
   ]
  },
  {
   "cell_type": "markdown",
   "metadata": {
    "slideshow": {
     "slide_type": "-"
    }
   },
   "source": [
    "`-` soustraction"
   ]
  },
  {
   "cell_type": "code",
   "execution_count": null,
   "metadata": {
    "slideshow": {
     "slide_type": "-"
    }
   },
   "outputs": [],
   "source": [
    "3 - 2"
   ]
  },
  {
   "cell_type": "markdown",
   "metadata": {
    "slideshow": {
     "slide_type": "subslide"
    }
   },
   "source": [
    "`*` multiplication"
   ]
  },
  {
   "cell_type": "code",
   "execution_count": null,
   "metadata": {
    "slideshow": {
     "slide_type": "-"
    }
   },
   "outputs": [],
   "source": [
    "2 * 3"
   ]
  },
  {
   "cell_type": "markdown",
   "metadata": {
    "slideshow": {
     "slide_type": "-"
    }
   },
   "source": [
    "`/` division"
   ]
  },
  {
   "cell_type": "code",
   "execution_count": null,
   "metadata": {
    "slideshow": {
     "slide_type": "-"
    }
   },
   "outputs": [],
   "source": [
    "36 / 6"
   ]
  },
  {
   "cell_type": "markdown",
   "metadata": {
    "slideshow": {
     "slide_type": "-"
    }
   },
   "source": [
    "`%` modulo (reste de la division)"
   ]
  },
  {
   "cell_type": "code",
   "execution_count": null,
   "metadata": {
    "slideshow": {
     "slide_type": "-"
    }
   },
   "outputs": [],
   "source": [
    "36 % 8"
   ]
  },
  {
   "cell_type": "markdown",
   "metadata": {
    "slideshow": {
     "slide_type": "subslide"
    }
   },
   "source": [
    "`**` puissance"
   ]
  },
  {
   "cell_type": "code",
   "execution_count": null,
   "metadata": {
    "scrolled": true,
    "slideshow": {
     "slide_type": "-"
    }
   },
   "outputs": [],
   "source": [
    "10 ** 2 * 4"
   ]
  },
  {
   "cell_type": "markdown",
   "metadata": {
    "slideshow": {
     "slide_type": "-"
    }
   },
   "source": [
    "* L'ordre des opérations est l'ordre classique en mathématiques (puissance passe avant les opérations)."
   ]
  },
  {
   "cell_type": "markdown",
   "metadata": {
    "slideshow": {
     "slide_type": "-"
    }
   },
   "source": [
    "* vous pouvez utiliser des parenthèses pour définir des priorités."
   ]
  },
  {
   "cell_type": "code",
   "execution_count": null,
   "metadata": {
    "slideshow": {
     "slide_type": "-"
    }
   },
   "outputs": [],
   "source": [
    "36 / (2*3)"
   ]
  },
  {
   "cell_type": "markdown",
   "metadata": {
    "slideshow": {
     "slide_type": "slide"
    }
   },
   "source": [
    "# Les chaînes de caractères\n",
    "\n",
    "* `+` est aussi l'opérateur de concaténation de chaînes de caractères "
   ]
  },
  {
   "cell_type": "code",
   "execution_count": null,
   "metadata": {
    "slideshow": {
     "slide_type": "-"
    }
   },
   "outputs": [],
   "source": [
    "\"Hello\" + \"world\""
   ]
  },
  {
   "cell_type": "code",
   "execution_count": null,
   "metadata": {
    "slideshow": {
     "slide_type": "-"
    }
   },
   "outputs": [],
   "source": [
    "\"Hello\" + \" \" + \"world\""
   ]
  },
  {
   "cell_type": "markdown",
   "metadata": {
    "slideshow": {
     "slide_type": "subslide"
    }
   },
   "source": [
    "* Les chaînes de caractères sont entourées soit de quotes simples `'`, soit de guillemets `\"`\n",
    "* Si votre mot contient une apostrophe, entourez-le de guillemets `\"`"
   ]
  },
  {
   "cell_type": "code",
   "execution_count": null,
   "metadata": {
    "slideshow": {
     "slide_type": "-"
    }
   },
   "outputs": [],
   "source": [
    "'Ça donne une erreur t'as vu'"
   ]
  },
  {
   "cell_type": "code",
   "execution_count": null,
   "metadata": {
    "slideshow": {
     "slide_type": "-"
    }
   },
   "outputs": [],
   "source": [
    "\"Ça donne une erreur t'as vu\""
   ]
  },
  {
   "cell_type": "markdown",
   "metadata": {
    "slideshow": {
     "slide_type": "slide"
    }
   },
   "source": [
    "# Les variables\n",
    "\n",
    "* L'affectation des variables se fait à l'aide du symbole `=`  \n",
    "* Si la variable est placée à droite du symbole `=`, sa *valeur* est affectée à la variable placée à gauche."
   ]
  },
  {
   "cell_type": "code",
   "execution_count": null,
   "metadata": {
    "slideshow": {
     "slide_type": "-"
    }
   },
   "outputs": [],
   "source": [
    "var = 3 + 2\n",
    "print(var)\n",
    "\n",
    "another_var = var\n",
    "print(another_var)"
   ]
  },
  {
   "cell_type": "code",
   "execution_count": null,
   "metadata": {
    "slideshow": {
     "slide_type": "-"
    }
   },
   "outputs": [],
   "source": [
    "yet_another_var_2 = var + 1\n",
    "yet_another_var_2"
   ]
  },
  {
   "cell_type": "markdown",
   "metadata": {
    "slideshow": {
     "slide_type": "subslide"
    }
   },
   "source": [
    "* Les noms de variable sont composés de car. alphabétiques (min ou maj), des chiffres et de l'underscore. C'est tout.\n",
    "\n",
    "* Les noms de variable sont choisis par le programmeur, ils doivent être le plus clair possible.  \n",
    "En réalité il est conseillé de suivre la [PEP 8](https://www.python.org/dev/peps/pep-0008/).\n",
    "\n"
   ]
  },
  {
   "cell_type": "code",
   "execution_count": null,
   "metadata": {
    "slideshow": {
     "slide_type": "-"
    }
   },
   "outputs": [],
   "source": [
    "je-ne-suis-pas-une-variable = 2"
   ]
  },
  {
   "cell_type": "code",
   "execution_count": null,
   "metadata": {},
   "outputs": [],
   "source": [
    "3_moi_non_plus = 2 + 3"
   ]
  },
  {
   "cell_type": "markdown",
   "metadata": {
    "slideshow": {
     "slide_type": "subslide"
    }
   },
   "source": [
    "* Seuls les mots réservés sont interdits."
   ]
  },
  {
   "cell_type": "code",
   "execution_count": null,
   "metadata": {
    "slideshow": {
     "slide_type": "-"
    }
   },
   "outputs": [],
   "source": [
    "import keyword\n",
    "print(keyword.kwlist)"
   ]
  },
  {
   "cell_type": "markdown",
   "metadata": {
    "slideshow": {
     "slide_type": "slide"
    }
   },
   "source": [
    "# Help !\n",
    "## PEP, quesaco ?\n",
    "\n",
    "PEP : Python Enhancement Proposals\n",
    "\n",
    "Python est sous licence libre. Le langage a été créé par Guido Van Rossum mais depuis 2001 le développement de Python est géré par la [Python Software Foundation](http://www.python.org/psf/) (dont Guido était le *\"benevolent dictator for life\"* jusqu'en juillet 2018).\n",
    "\n",
    "Les évolutions du langage sont détaillées dans ces PEP (proposées, examinées, corrigées, acceptées puis implémentées)."
   ]
  },
  {
   "cell_type": "markdown",
   "metadata": {
    "slideshow": {
     "slide_type": "subslide"
    }
   },
   "source": [
    "Les PEP les plus célèbres sont\n",
    "* [PEP 20](https://www.python.org/dev/peps/pep-0020/) \"Zen of Python\"<sup>1</sup> (tapez `import this` dans une console)\n",
    "* [PEP 8](https://www.python.org/dev/peps/pep-0008/) \"Style Guide for Python Code\"\n",
    "\n",
    "<sup>1</sup> \"There should be one-- and preferably only one --obvious way to do it.\" Tacle par derrière sur Perl, c'est pas joli-joli."
   ]
  },
  {
   "cell_type": "markdown",
   "metadata": {
    "slideshow": {
     "slide_type": "slide"
    }
   },
   "source": [
    "# Les types\n",
    "\n",
    "* Python est un langage à typage *dynamique* fort : le type d'une variable est déterminé par l'interpréteur.\n",
    "* Python est un langage à typage dynamique *fort* : pas de conversion implicite, certaines actions sont interdites."
   ]
  },
  {
   "cell_type": "code",
   "execution_count": null,
   "metadata": {
    "slideshow": {
     "slide_type": "-"
    }
   },
   "outputs": [],
   "source": [
    "\"Hello\" + 1"
   ]
  },
  {
   "cell_type": "markdown",
   "metadata": {
    "slideshow": {
     "slide_type": "subslide"
    }
   },
   "source": [
    "* La fonction `type()` retourne le type de la variable donnée en argument."
   ]
  },
  {
   "cell_type": "code",
   "execution_count": null,
   "metadata": {
    "slideshow": {
     "slide_type": "-"
    }
   },
   "outputs": [],
   "source": [
    "type(\"Hello\")"
   ]
  },
  {
   "cell_type": "markdown",
   "metadata": {
    "slideshow": {
     "slide_type": "-"
    }
   },
   "source": [
    "* `str()`, `int()`, `float()` convertit l'argument dans le type désiré.\n",
    "* `bool()` retourne `True` si l'argument est vrai, `False` sinon."
   ]
  },
  {
   "cell_type": "code",
   "execution_count": null,
   "metadata": {
    "slideshow": {
     "slide_type": "-"
    }
   },
   "outputs": [],
   "source": [
    "int(3.14159265359)"
   ]
  },
  {
   "cell_type": "code",
   "execution_count": null,
   "metadata": {
    "slideshow": {
     "slide_type": "-"
    }
   },
   "outputs": [],
   "source": [
    "\"Hello\" + str(1)"
   ]
  },
  {
   "cell_type": "markdown",
   "metadata": {
    "slideshow": {
     "slide_type": "slide"
    }
   },
   "source": [
    "# Help !\n",
    "\n",
    "Nous venons d'utiliser 4 fonctions.\n",
    "\n",
    "Avant d'utiliser une fonction il est indispensable de savoir : ce que fait la fonction, quels sont les paramètres attendus, quelle est la valeur de retour.\n",
    "\n",
    "Pour accéder à la documentation d'une fonction :\n",
    "* dans la console : `help(int)` <small>(d'une fonction ou d'une classe ou d'un module)</small>  \n",
    "<small>`q` pour sortir de la doc</small>\n",
    "* sur le web : [https://docs.python.org/3/library/functions.html](https://docs.python.org/3/library/functions.html)\n",
    "* ou bien : [DevDocs](http://devdocs.io/)"
   ]
  },
  {
   "cell_type": "markdown",
   "metadata": {
    "slideshow": {
     "slide_type": "slide"
    }
   },
   "source": [
    "# Les structures conditionnelles\n",
    "\n",
    "```python\n",
    "if condition:\n",
    "    #begin of block\n",
    "    instruction1\n",
    "    instruction2\n",
    "    #end of block\n",
    "\n",
    "```\n"
   ]
  },
  {
   "cell_type": "markdown",
   "metadata": {
    "slideshow": {
     "slide_type": "subslide"
    }
   },
   "source": [
    "### Opérateurs de comparaison\n",
    "`<`  inférieur  / `<=` inférieur ou égal  \n",
    "`>`  supérieur  / `>=` supérieur ou égal  \n",
    "`==` égal  / `!=` non égal  \n",
    "`is` identité (pour les objets surtout)  / `is not` non identité  "
   ]
  },
  {
   "cell_type": "code",
   "execution_count": null,
   "metadata": {
    "slideshow": {
     "slide_type": "-"
    }
   },
   "outputs": [],
   "source": [
    "x = 4\n",
    "if x > 3:\n",
    "    print(\"x a grandi\")"
   ]
  },
  {
   "cell_type": "code",
   "execution_count": null,
   "metadata": {
    "slideshow": {
     "slide_type": "-"
    }
   },
   "outputs": [],
   "source": [
    "if x > 3:\n",
    "    print(\"x a grandi\")\t   \n",
    "else:\n",
    "    print(\"x n'a pas grandi\")"
   ]
  },
  {
   "cell_type": "markdown",
   "metadata": {
    "slideshow": {
     "slide_type": "subslide"
    }
   },
   "source": [
    "### Opérateurs booléens\n",
    "``not`` négation  \n",
    "``and`` conjonction (True si les deux opérandes sont vraies, False sinon)  \n",
    "``or``  disjonction (True si une des deux opérandes est vraie)  "
   ]
  },
  {
   "cell_type": "code",
   "execution_count": null,
   "metadata": {
    "slideshow": {
     "slide_type": "-"
    }
   },
   "outputs": [],
   "source": [
    "if x > 3 and x <= 5:\n",
    "    print(\"x a grandi, un peu\")\t   \n",
    "elif x > 5:\n",
    "    print(\"x a grandi\")\n",
    "else:\n",
    "    print(\"x n'a pas grandi\")"
   ]
  },
  {
   "cell_type": "markdown",
   "metadata": {
    "slideshow": {
     "slide_type": "subslide"
    }
   },
   "source": [
    "### Opérateurs booléens\n",
    "#### Exos\n",
    "\n",
    "* Écrire un script qui détermine si un nombre donné est pair ou impair\n",
    "* Chifoumi version 1"
   ]
  },
  {
   "cell_type": "markdown",
   "metadata": {
    "slideshow": {
     "slide_type": "slide"
    }
   },
   "source": [
    "# Les listes\n",
    "#### Vite fait, on y reviendra\n",
    "\n",
    "* Une liste une structure de données ordonnée\n",
    "* Une liste peut contenir plusieurs valeurs, variables, listes, objets, ... le tout de types différents\n",
    "* On accède à un élément de la liste par son indice (de 0 à n-1, n étant le nombre d'éléments)"
   ]
  },
  {
   "cell_type": "code",
   "execution_count": null,
   "metadata": {
    "slideshow": {
     "slide_type": "-"
    }
   },
   "outputs": [],
   "source": [
    "voyelles = []\n",
    "voyelles = ['a', 'e', 'i', 'o', 'u']    \n",
    "voyelles[0]    "
   ]
  },
  {
   "cell_type": "markdown",
   "metadata": {
    "slideshow": {
     "slide_type": "slide"
    }
   },
   "source": [
    "# Les dictionnaires\n",
    "#### Vite fait, on y reviendra\n",
    "\t\t\t\n",
    "* Un dictionnaire est une structure de données associative de type 'clé' => 'valeur'\n",
    "* Les données ne sont pas ordonnées comme dans les listes\n",
    "* On accède à une valeur par sa clé\n",
    "* Les clés sont uniques, on ne peut pas associer deux valeurs à une même clé    \n",
    "* `keys()` renvoie la liste des clés, `values()` la liste des valeurs"
   ]
  },
  {
   "cell_type": "code",
   "execution_count": null,
   "metadata": {
    "slideshow": {
     "slide_type": "subslide"
    }
   },
   "outputs": [],
   "source": [
    "couleurs = {'a':'noir', 'e':'blanc', 'i':'rouge', 'u':'vert', 'o':'bleu'}\n",
    "couleurs['i'] = \"pourpre\"\n",
    "couleurs"
   ]
  },
  {
   "cell_type": "code",
   "execution_count": null,
   "metadata": {
    "slideshow": {
     "slide_type": "-"
    }
   },
   "outputs": [],
   "source": [
    "couleurs.keys()"
   ]
  },
  {
   "cell_type": "markdown",
   "metadata": {
    "slideshow": {
     "slide_type": "slide"
    }
   },
   "source": [
    "# Les boucles\n",
    "#### Vite fait, on y reviendra\n",
    "\n",
    "* Les boucles `while` nécessitent que la valeur utilisée dans la condition d'arrêt soit modifiée dans le corps de la boucle.\n",
    "* Les boucles `for` s'appliquent aux objets de type \"iterables\" (liste, chaîne de car., dict.items())"
   ]
  },
  {
   "cell_type": "code",
   "execution_count": null,
   "metadata": {
    "slideshow": {
     "slide_type": "-"
    }
   },
   "outputs": [],
   "source": [
    "i = 1\n",
    "while i < 5:\n",
    "    print(i)\n",
    "    i = i + 1"
   ]
  },
  {
   "cell_type": "code",
   "execution_count": null,
   "metadata": {
    "slideshow": {
     "slide_type": "subslide"
    }
   },
   "outputs": [],
   "source": [
    "for item in voyelles:\n",
    "    print(item)"
   ]
  },
  {
   "cell_type": "code",
   "execution_count": null,
   "metadata": {
    "slideshow": {
     "slide_type": "-"
    }
   },
   "outputs": [],
   "source": [
    "for item in couleurs.keys():\n",
    "    print(item)"
   ]
  },
  {
   "cell_type": "code",
   "execution_count": null,
   "metadata": {
    "slideshow": {
     "slide_type": "-"
    }
   },
   "outputs": [],
   "source": [
    "for key, value in couleurs.items():\n",
    "    print(key, value)"
   ]
  },
  {
   "cell_type": "markdown",
   "metadata": {
    "slideshow": {
     "slide_type": "slide"
    }
   },
   "source": [
    "# Les fonctions\n",
    "### Vite fait, on y reviendra\n",
    "\n",
    "```python\n",
    "def ma_fonction(arg1, arg2):\n",
    "    \"\"\" description de la fonction \"\"\"\n",
    "    instruction1\n",
    "    instruction2\n",
    "    return(resultat)\n",
    "```\n",
    "* L'ordre des arguments est déterminant\n",
    "* Il est possible d'outrepasser l'ordre en nommant les arguments lors de l'appel de fonction    \n"
   ]
  },
  {
   "cell_type": "code",
   "execution_count": null,
   "metadata": {
    "slideshow": {
     "slide_type": "subslide"
    }
   },
   "outputs": [],
   "source": [
    "def soustraction(arg1, arg2):\n",
    "    res = arg1 - arg2\n",
    "    return res"
   ]
  },
  {
   "cell_type": "code",
   "execution_count": null,
   "metadata": {
    "slideshow": {
     "slide_type": "-"
    }
   },
   "outputs": [],
   "source": [
    "diff = soustraction(5, 3)    \n",
    "diff"
   ]
  },
  {
   "cell_type": "code",
   "execution_count": null,
   "metadata": {
    "slideshow": {
     "slide_type": "-"
    }
   },
   "outputs": [],
   "source": [
    "diff = soustraction(3, 5)    \n",
    "diff"
   ]
  },
  {
   "cell_type": "code",
   "execution_count": null,
   "metadata": {
    "slideshow": {
     "slide_type": "-"
    }
   },
   "outputs": [],
   "source": [
    "diff = soustraction(arg2=5, arg1=3)    \n",
    "diff"
   ]
  },
  {
   "cell_type": "markdown",
   "metadata": {
    "slideshow": {
     "slide_type": "slide"
    }
   },
   "source": [
    "# Exos\n",
    "\n",
    "Vous rendrez des scripts Python3. Avec des commentaires c'est mieux.      \n",
    "      \n",
    "1. Finir le chifoumi\n",
    "2. Faire un jeu un peu sur le modèle du chifoumi où l'utilisateur doit deviner un chiffre entre 1 et 10 (10 inclus). 5 essais possibles. Le jeu doit donner des indications (trop grand, trop petit) à chaque essai.\n",
    "3. Résoudre [Power of Thor - Episode 1](https://www.codingame.com/training/easy/power-of-thor-episode-1) sur CodinGame"
   ]
  }
 ],
 "metadata": {
  "celltoolbar": "Slideshow",
  "kernelspec": {
   "display_name": "Python 3",
   "language": "python",
   "name": "python3"
  },
  "language_info": {
   "codemirror_mode": {
    "name": "ipython",
    "version": 3
   },
   "file_extension": ".py",
   "mimetype": "text/x-python",
   "name": "python",
   "nbconvert_exporter": "python",
   "pygments_lexer": "ipython3",
   "version": "3.7.4"
  },
  "livereveal": {
   "autolaunch": true,
   "scroll": true,
   "transition": "none"
  }
 },
 "nbformat": 4,
 "nbformat_minor": 2
}
