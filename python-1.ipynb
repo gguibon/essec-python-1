{
 "cells": [
  {
   "cell_type": "markdown",
   "metadata": {
    "slideshow": {
     "slide_type": "slide"
    }
   },
   "source": [
    "<center>\n",
    "    \n",
    "# Introduction to Programming – Python\n",
    "----\n",
    "\n",
    "## Course 1 – first steps\n",
    "\n",
    "### ESSEC Business School\n",
    "\n",
    "[gael.guibon@inria.fr](gael.guibon@inria.fr)\n",
    "\n",
    "</center>"
   ]
  },
  {
   "cell_type": "markdown",
   "metadata": {
    "slideshow": {
     "slide_type": "slide"
    }
   },
   "source": [
    "# A program\n",
    "---\n",
    "* A program is a **set of instructions**\n",
    "    * Orders for the machine to execute later on\n",
    "* A program will be compilated for the machine to understand it\n",
    "* A compilated program is only binary code\n"
   ]
  },
  {
   "cell_type": "markdown",
   "metadata": {
    "slideshow": {
     "slide_type": "subslide"
    }
   },
   "source": [
    "# Programming languages\n",
    "---\n",
    "* Languages are divided by level :\n",
    "    1. High level: **Python**, Java, etc.\n",
    "    2. Low-Level: COBOL, FORTRAN, C, etc.\n",
    "    3. Assembly: some CPUs\n",
    "    4. Machine code\n",
    "    5. Micro-code: CPUs\n",
    "    "
   ]
  },
  {
   "cell_type": "markdown",
   "metadata": {
    "slideshow": {
     "slide_type": "subslide"
    }
   },
   "source": [
    "# What you need\n",
    "----\n",
    "* Logic:\n",
    "    * Propositional logic\n",
    "    * First-order logic\n",
    "    * Predicate logic\n",
    "* Rigor:\n",
    "    * Verify everything, every character, every content\n",
    "    * Order is important!\n",
    "* Patience:\n",
    "    * Verify/understand error logs\n",
    "    * Proceed step by step\n"
   ]
  },
  {
   "cell_type": "markdown",
   "metadata": {
    "slideshow": {
     "slide_type": "subslide"
    }
   },
   "source": [
    "# What you will learn\n",
    "----\n",
    "1. To **understand** and use basic types\n",
    "2. To **implement** simple logic\n",
    "3. To **write** simple code"
   ]
  },
  {
   "cell_type": "markdown",
   "metadata": {
    "slideshow": {
     "slide_type": "slide"
    }
   },
   "source": [
    "# Python\n",
    "Python is a high level programming language under free licence. It was created by Guido Van Rossum but since 2001 the development is lead by the [Python Software Foundation](http://www.python.org/psf/) (Guido was the *\"benevolent dictator for life\"* until july 2018).\n",
    "\n",
    "Language evolutions are detailed in Python Enhancement Proposals (PEP).\n",
    "\n",
    "## Python functions\n",
    "To know what does each native Python functions, you need to access the documentation.\n",
    "* type : `help(print)`   \n",
    "<small>`q` to exit the doc</small>\n",
    "* in your browser : [https://docs.python.org/3/library/functions.html](https://docs.python.org/3/library/functions.html)\n",
    "* or : [DevDocs](http://devdocs.io/)"
   ]
  },
  {
   "cell_type": "markdown",
   "metadata": {
    "slideshow": {
     "slide_type": "slide"
    }
   },
   "source": [
    "Famous PEPs:\n",
    "* [PEP 20](https://www.python.org/dev/peps/pep-0020/) \"Zen of Python\"<sup>1</sup> ( `import this` in python console)\n",
    "* [PEP 8](https://www.python.org/dev/peps/pep-0008/) \"Style Guide for Python Code\"\n",
    "\n",
    "<sup>1</sup> \"There should be one-- and preferably only one --obvious way to do it.\""
   ]
  },
  {
   "cell_type": "code",
   "execution_count": null,
   "metadata": {},
   "outputs": [],
   "source": [
    "# show the code guidelines for Python\n",
    "import this"
   ]
  },
  {
   "cell_type": "markdown",
   "metadata": {
    "slideshow": {
     "slide_type": "slide"
    }
   },
   "source": [
    "# A basic instruction\n",
    "\n",
    "We can print anything by using the `print()` function.\n",
    "\n",
    "```python\n",
    "print( SOMETHING )\n",
    "```\n",
    "\n"
   ]
  },
  {
   "cell_type": "code",
   "execution_count": null,
   "metadata": {},
   "outputs": [],
   "source": [
    "# what does the print() function ?\n",
    "help(print)"
   ]
  },
  {
   "cell_type": "code",
   "execution_count": null,
   "metadata": {},
   "outputs": [],
   "source": [
    "print('Hello worfsdfld')"
   ]
  },
  {
   "cell_type": "markdown",
   "metadata": {},
   "source": [
    "* Principle: 1 line = 1 instruction\n",
    "* Everything after `#` is a comment\n",
    "```python\n",
    "# this is a comment !!!\n",
    "```"
   ]
  },
  {
   "cell_type": "code",
   "execution_count": null,
   "metadata": {},
   "outputs": [],
   "source": [
    "print('hey') #first instruction\n",
    "print('you') #second instruction (order is important)"
   ]
  },
  {
   "cell_type": "markdown",
   "metadata": {
    "slideshow": {
     "slide_type": "slide"
    }
   },
   "source": [
    "# Variables\n",
    "* Variables are data containers.\n",
    "* `=` is used to put value into a variable\n",
    "* Variable's content can be put into another variable\n",
    "```python\n",
    "variable1 = variable2\n",
    "```"
   ]
  },
  {
   "cell_type": "code",
   "execution_count": null,
   "metadata": {},
   "outputs": [],
   "source": [
    "name = 'Gaël'\n",
    "print(name)"
   ]
  },
  {
   "cell_type": "code",
   "execution_count": null,
   "metadata": {},
   "outputs": [],
   "source": [
    "# variables values\n",
    "lastname = 'Guibon'\n",
    "firstname = 'Gaël'\n",
    "print(lastname)\n",
    "print(firstname)\n",
    "lastname = firstname\n",
    "print(lastname, firstname) # multiple arguments can be passed into print function. \n",
    "# They will automatically be separated by a space."
   ]
  },
  {
   "cell_type": "markdown",
   "metadata": {
    "slideshow": {
     "slide_type": "slide"
    }
   },
   "source": [
    "# Variables names\n",
    "Variables can have any names **EXCEPT the already declared keywords**.\n",
    "To show all the python keywords do:"
   ]
  },
  {
   "cell_type": "code",
   "execution_count": null,
   "metadata": {},
   "outputs": [],
   "source": [
    "import keyword # import libraries. this one is a standard library\n",
    "print(keyword.kwlist)"
   ]
  },
  {
   "cell_type": "markdown",
   "metadata": {
    "slideshow": {
     "slide_type": "slide"
    }
   },
   "source": [
    "* Variable names are alphanumeric values (upper or lowercase), or/and numbers, or/and underscores. Nothing more.\n",
    "* Variable names need to be clear and understandable. For instance:\n",
    "```python\n",
    "birthdayDate = '01012005' # good\n",
    "date = '01012005' # bad\n",
    "xyhzi = '010120005' # very bad\n",
    "```\n",
    "* It is recommended to follow the official Python advices [PEP 8](https://www.python.org/dev/peps/pep-0008/).\n",
    "\n"
   ]
  },
  {
   "cell_type": "code",
   "execution_count": null,
   "metadata": {},
   "outputs": [],
   "source": [
    "# Python does not accept this kind of variable name\n",
    "my-super-username = 'Robert' # known as KebabCase"
   ]
  },
  {
   "cell_type": "code",
   "execution_count": null,
   "metadata": {},
   "outputs": [],
   "source": [
    "1_does_not_work = 'bad name'"
   ]
  },
  {
   "cell_type": "code",
   "execution_count": null,
   "metadata": {},
   "outputs": [],
   "source": [
    "# Use this instead\n",
    "mySuperUsername = 'Robert' # known as CamelCase\n",
    "# or this\n",
    "my_super_username = 'Robert' # known as SnakeCase\n",
    "# print them to see that it works"
   ]
  },
  {
   "cell_type": "markdown",
   "metadata": {
    "slideshow": {
     "slide_type": "slide"
    }
   },
   "source": [
    "# Arithmetic Operators\n",
    "\n",
    "`+` addition  "
   ]
  },
  {
   "cell_type": "code",
   "execution_count": null,
   "metadata": {
    "slideshow": {
     "slide_type": "-"
    }
   },
   "outputs": [],
   "source": [
    "2 + 5 "
   ]
  },
  {
   "cell_type": "markdown",
   "metadata": {
    "slideshow": {
     "slide_type": "-"
    }
   },
   "source": [
    "`-` substraction"
   ]
  },
  {
   "cell_type": "code",
   "execution_count": null,
   "metadata": {
    "slideshow": {
     "slide_type": "-"
    }
   },
   "outputs": [],
   "source": [
    "3 - 2"
   ]
  },
  {
   "cell_type": "markdown",
   "metadata": {
    "slideshow": {
     "slide_type": "subslide"
    }
   },
   "source": [
    "`*` multiplication"
   ]
  },
  {
   "cell_type": "code",
   "execution_count": null,
   "metadata": {
    "slideshow": {
     "slide_type": "-"
    }
   },
   "outputs": [],
   "source": [
    "2 * 3"
   ]
  },
  {
   "cell_type": "markdown",
   "metadata": {
    "slideshow": {
     "slide_type": "-"
    }
   },
   "source": [
    "`/` division"
   ]
  },
  {
   "cell_type": "code",
   "execution_count": null,
   "metadata": {
    "slideshow": {
     "slide_type": "-"
    }
   },
   "outputs": [],
   "source": [
    "36 / 6"
   ]
  },
  {
   "cell_type": "markdown",
   "metadata": {
    "slideshow": {
     "slide_type": "subslide"
    }
   },
   "source": [
    "`%` modulus (division remainder)"
   ]
  },
  {
   "cell_type": "code",
   "execution_count": null,
   "metadata": {
    "slideshow": {
     "slide_type": "-"
    }
   },
   "outputs": [],
   "source": [
    "36 % 8"
   ]
  },
  {
   "cell_type": "markdown",
   "metadata": {},
   "source": [
    "`//` Floor division (cut the result after the period)"
   ]
  },
  {
   "cell_type": "code",
   "execution_count": null,
   "metadata": {},
   "outputs": [],
   "source": [
    "3 // 2"
   ]
  },
  {
   "cell_type": "markdown",
   "metadata": {
    "slideshow": {
     "slide_type": "subslide"
    }
   },
   "source": [
    "`**` exponent"
   ]
  },
  {
   "cell_type": "code",
   "execution_count": null,
   "metadata": {
    "scrolled": true,
    "slideshow": {
     "slide_type": "-"
    }
   },
   "outputs": [],
   "source": [
    "10 ** 2 * 4"
   ]
  },
  {
   "cell_type": "markdown",
   "metadata": {
    "slideshow": {
     "slide_type": "-"
    }
   },
   "source": [
    "* Operation order and priorities are the same as in mathematics\n",
    "* You can use parenthesis to define priorities"
   ]
  },
  {
   "cell_type": "code",
   "execution_count": null,
   "metadata": {
    "slideshow": {
     "slide_type": "-"
    }
   },
   "outputs": [],
   "source": [
    "36 / (2*3)"
   ]
  },
  {
   "cell_type": "markdown",
   "metadata": {
    "slideshow": {
     "slide_type": "subslide"
    }
   },
   "source": [
    "* Of course, it works with variables"
   ]
  },
  {
   "cell_type": "code",
   "execution_count": null,
   "metadata": {},
   "outputs": [],
   "source": [
    "a = 3\n",
    "b = 2\n",
    "print(a*b)"
   ]
  },
  {
   "cell_type": "markdown",
   "metadata": {
    "slideshow": {
     "slide_type": "slide"
    }
   },
   "source": [
    "# Variable types\n",
    "* Data can have different forms, same goes for variables\n",
    "* Each variable has a **Type**\n",
    "* Here are the most commons types in Python:\n",
    "    * **String**: str() : string of characters (text)\n",
    "    * **Integer**: int() : integer numbers\n",
    "    * **Float**: float() : numbers with floating decimal points\n",
    "    * **Boolean**: bool() : True or False\n",
    "    * Long (*not in Python*)\n",
    "    * Char (*not in Python*)\n",
    "* Python is a strong dynamic typed language\n",
    "    * dynamic = variable type is determined by the interpretor (compilor)\n",
    "    * strong = no implicit conversion of types"
   ]
  },
  {
   "cell_type": "markdown",
   "metadata": {
    "slideshow": {
     "slide_type": "slide"
    }
   },
   "source": [
    "* Try this :"
   ]
  },
  {
   "cell_type": "code",
   "execution_count": null,
   "metadata": {
    "slideshow": {
     "slide_type": "-"
    }
   },
   "outputs": [],
   "source": [
    "\"Hello\" + 1"
   ]
  },
  {
   "cell_type": "markdown",
   "metadata": {},
   "source": [
    "It does not work as we try to concatenate a String (str) with an Integer (int).\n",
    "\n",
    "You can find the variable's type with `type()` function."
   ]
  },
  {
   "cell_type": "code",
   "execution_count": null,
   "metadata": {},
   "outputs": [],
   "source": [
    "print( type('hello world') )\n",
    "print( type(23) )\n",
    "print( type(False) )\n",
    "print( type(23.45) )"
   ]
  },
  {
   "cell_type": "markdown",
   "metadata": {
    "slideshow": {
     "slide_type": "slide"
    }
   },
   "source": [
    "## Type conversion\n",
    "* `str()`, `int()`, `float()` convert the passed argument as the desired type\n",
    "* `bool()` returns `True` if the argument is true, `False` otherwise."
   ]
  },
  {
   "cell_type": "code",
   "execution_count": null,
   "metadata": {
    "slideshow": {
     "slide_type": "-"
    }
   },
   "outputs": [],
   "source": [
    "int(3.14159265359) # transforms a float into an integer"
   ]
  },
  {
   "cell_type": "code",
   "execution_count": null,
   "metadata": {
    "slideshow": {
     "slide_type": "-"
    }
   },
   "outputs": [],
   "source": [
    "\"Hello\" + str(1) # transforms an integer into a String and concatenate both Strings"
   ]
  },
  {
   "cell_type": "markdown",
   "metadata": {},
   "source": [
    "# Strings Operations\n",
    "* Concaténate Strings: `+`"
   ]
  },
  {
   "cell_type": "code",
   "execution_count": null,
   "metadata": {
    "slideshow": {
     "slide_type": "-"
    }
   },
   "outputs": [],
   "source": [
    "\"Hello\" + \"world\""
   ]
  },
  {
   "cell_type": "code",
   "execution_count": null,
   "metadata": {
    "slideshow": {
     "slide_type": "-"
    }
   },
   "outputs": [],
   "source": [
    "\"Hello\" + \" \" + \"world\""
   ]
  },
  {
   "cell_type": "markdown",
   "metadata": {
    "slideshow": {
     "slide_type": "subslide"
    }
   },
   "source": [
    "* Strings can be surrounded by simple quotes `'hello'` or double quotes `\"hello\"`\n",
    "* If your work contains a simple quote use double quotes:\n",
    "```python\n",
    "negation = \"don't do that!\"\n",
    "```"
   ]
  },
  {
   "cell_type": "code",
   "execution_count": null,
   "metadata": {
    "slideshow": {
     "slide_type": "-"
    }
   },
   "outputs": [],
   "source": [
    "'it doesn't work'"
   ]
  },
  {
   "cell_type": "code",
   "execution_count": null,
   "metadata": {
    "slideshow": {
     "slide_type": "-"
    }
   },
   "outputs": [],
   "source": [
    "\"It doesn't work? Oh yes it does!\""
   ]
  },
  {
   "cell_type": "markdown",
   "metadata": {},
   "source": [
    "* You can always escape special characters with `\\` to indicate to not parse them"
   ]
  },
  {
   "cell_type": "code",
   "execution_count": null,
   "metadata": {},
   "outputs": [],
   "source": [
    "'It doesn\\'t work? Oh yes it does!'"
   ]
  },
  {
   "cell_type": "code",
   "execution_count": null,
   "metadata": {},
   "outputs": [],
   "source": [
    "''' this is a multiline String\n",
    "I can put a huge text between 3 simple or double quotes'''"
   ]
  },
  {
   "cell_type": "code",
   "execution_count": null,
   "metadata": {},
   "outputs": [],
   "source": [
    "\"\"\" Works with tripple double quotes\"\"\""
   ]
  },
  {
   "cell_type": "markdown",
   "metadata": {
    "slideshow": {
     "slide_type": "slide"
    }
   },
   "source": [
    "# Conditions\n",
    "\n",
    "```python\n",
    "if condition:\n",
    "    #begin of block\n",
    "    instruction1\n",
    "    instruction2\n",
    "    #end of block\n",
    "```\n",
    "\n",
    "**Indentations are important** in Python"
   ]
  },
  {
   "cell_type": "markdown",
   "metadata": {
    "slideshow": {
     "slide_type": "subslide"
    }
   },
   "source": [
    "## Comparison Operators\n",
    "`<`  lesser than  / `<=` equal or lesser than\n",
    "`>`  greater than  / `>=` equal or greater than  \n",
    "`==` equal  / `!=` not equal \n",
    "`is` identify as  / `is not` not identified as"
   ]
  },
  {
   "cell_type": "code",
   "execution_count": null,
   "metadata": {
    "slideshow": {
     "slide_type": "-"
    }
   },
   "outputs": [],
   "source": [
    "x = 4\n",
    "if x > 3:\n",
    "    print(\"x equals \", x, \"and is it greater than 4?\", x>3) "
   ]
  },
  {
   "cell_type": "code",
   "execution_count": null,
   "metadata": {
    "slideshow": {
     "slide_type": "-"
    }
   },
   "outputs": [],
   "source": [
    "if x > 3:\n",
    "    print(\"yes x is greater than 3\")\n",
    "else:\n",
    "    print(\"nope x is not greater than 3\")"
   ]
  },
  {
   "cell_type": "markdown",
   "metadata": {
    "slideshow": {
     "slide_type": "subslide"
    }
   },
   "source": [
    "## Logical Operators\n",
    "``not`` logical NOT (reverse a condition: \"is he human?\" is the inverse of \"is he not human?\")\n",
    "``and`` logical AND (if and only if both conditions are True, returns True. Else, returns False.)\n",
    "``or``  disjonction (if one condition is True, returns True. Else, returns False.)  "
   ]
  },
  {
   "cell_type": "code",
   "execution_count": null,
   "metadata": {
    "slideshow": {
     "slide_type": "-"
    }
   },
   "outputs": [],
   "source": [
    "if x > 3 and x <= 5:\n",
    "    print(\"x is between 4 and 5\" )   \n",
    "elif x > 5:\n",
    "    print(\"x is lesser than 5\")\n",
    "else:\n",
    "    print(\"x is neither\")"
   ]
  },
  {
   "cell_type": "markdown",
   "metadata": {
    "slideshow": {
     "slide_type": "subslide"
    }
   },
   "source": [
    "## Membership Operators\n",
    "`in` : verify is something is in a string or list\n",
    "`not in` : reverse version"
   ]
  },
  {
   "cell_type": "code",
   "execution_count": null,
   "metadata": {},
   "outputs": [],
   "source": [
    "sentence = 'I want to eat something!'\n",
    "print( 'eat' in sentence )\n",
    "print( 'eat' not in sentence )\n",
    "print( 'hello' not in sentence )"
   ]
  },
  {
   "cell_type": "markdown",
   "metadata": {
    "slideshow": {
     "slide_type": "slide"
    }
   },
   "source": [
    "# Basic Role Playing Game (1)\n",
    "* Objective: construct a textual role playing game. The game is only text with choices, conditions to verify the choices and player status.\n",
    "* To do so you need one additional function:\n",
    "## Input() Function\n",
    "* Retrieve the player input"
   ]
  },
  {
   "cell_type": "code",
   "execution_count": null,
   "metadata": {},
   "outputs": [],
   "source": [
    "# Examples\n",
    "# Get the input function and display a greeting message\n",
    "print(\"Hello Player One, what's your name?\")\n",
    "playerName = input()\n",
    "print(\"Welcome\", playerName)\n"
   ]
  }
 ],
 "metadata": {
  "celltoolbar": "Diaporama",
  "kernelspec": {
   "display_name": "Python 3",
   "language": "python",
   "name": "python3"
  },
  "language_info": {
   "codemirror_mode": {
    "name": "ipython",
    "version": 3
   },
   "file_extension": ".py",
   "mimetype": "text/x-python",
   "name": "python",
   "nbconvert_exporter": "python",
   "pygments_lexer": "ipython3",
   "version": "3.7.4"
  },
  "livereveal": {
   "autolaunch": true,
   "scroll": true,
   "transition": "none"
  }
 },
 "nbformat": 4,
 "nbformat_minor": 2
}
