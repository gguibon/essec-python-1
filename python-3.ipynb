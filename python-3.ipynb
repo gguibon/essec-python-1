{
 "cells": [
  {
   "cell_type": "markdown",
   "metadata": {
    "slideshow": {
     "slide_type": "slide"
    }
   },
   "source": [
    "# Introduction to Programming – Python\n",
    "----\n",
    "\n",
    "## Course 3 – dictionaries & functions\n",
    "\n",
    "### ESSEC Business School\n",
    "\n",
    "[gael.guibon@inria.fr](gael.guibon@inria.fr)\n",
    "\n",
    "Original content inspired by [Clement Plancq's IM courses](https://github.com/clement-plancq/python-im)\n",
    "\n",
    "Licenced under Affero GNU3"
   ]
  },
  {
   "cell_type": "markdown",
   "metadata": {
    "slideshow": {
     "slide_type": "slide"
    }
   },
   "source": [
    "# Summary\n",
    "- **instructions** : `print()`\n",
    "- **basic operators** : logic (`and or`), math (`+ = - /`), membership (`in` `not in`)\n",
    "- **variables** : `name = city` `city = 'Cergy'` \n",
    "- **types concepts and basics** and conversion : `type()` `str()` `bool()` `int()` `float()`\n",
    "- **conditions and nested conditions** : indentations !\n",
    "- **lists and lists functions** : `list()`, `myList = ['hello', 'world']`, `myList.append()`, `len(myList)` etc.\n",
    "- **loops** : while `while conditionIsTrue:` and for `for element in elementList:`, `break`, `continue`\n",
    "- Mini textual game"
   ]
  },
  {
   "cell_type": "markdown",
   "metadata": {
    "slideshow": {
     "slide_type": "slide"
    }
   },
   "source": [
    "# Dictionaries\n",
    "### quick intro\n",
    "- Dictionaries are another Type of variable `dict()`\n",
    "- Follow only one concept: **Key and Value**\n",
    "- Can contain deeper informations, with explicit hierarchy\n",
    "- Data are not ordered (contrary to `list()` )\n",
    "- Value can be accessed by its associated Key\n",
    "- **Keys are unique** you cannot associate multiple values to one key. \n",
    "* `keys()` returns the list of keys, `values()` returns the list of values\n"
   ]
  },
  {
   "cell_type": "code",
   "execution_count": null,
   "metadata": {},
   "outputs": [],
   "source": [
    "# initialize an empty dictionary\n",
    "dico = {}\n",
    "dico = dict() # both ways are corrects\n",
    "\n",
    "# intialize with values\n",
    "dico = { \"key\" : \"value\" }\n",
    "print(dico)"
   ]
  },
  {
   "cell_type": "code",
   "execution_count": null,
   "metadata": {},
   "outputs": [],
   "source": [
    "# more concrete example\n",
    "player = { \"name\":\"gaël\", \"health\":200 }\n",
    "print(player)"
   ]
  },
  {
   "cell_type": "markdown",
   "metadata": {
    "slideshow": {
     "slide_type": "slide"
    }
   },
   "source": [
    "# Access data from a dict\n",
    "- By specifying the key : number, boolean  or String\n",
    "- Commonly used with String keys"
   ]
  },
  {
   "cell_type": "code",
   "execution_count": null,
   "metadata": {},
   "outputs": [],
   "source": [
    "player[\"name\"]"
   ]
  },
  {
   "cell_type": "code",
   "execution_count": null,
   "metadata": {},
   "outputs": [],
   "source": [
    "# get the list of keys\n",
    "print( player.keys() )\n",
    "\n",
    "# get the list of values\n",
    "print( player.values() )\n"
   ]
  },
  {
   "cell_type": "markdown",
   "metadata": {
    "slideshow": {
     "slide_type": "slide"
    }
   },
   "source": [
    "# Insert or modify data in a dict"
   ]
  },
  {
   "cell_type": "code",
   "execution_count": null,
   "metadata": {},
   "outputs": [],
   "source": [
    "# modify or create the key\n",
    "player[\"items\"] = ['bottle', 'laptop']\n",
    "print(player)\n"
   ]
  },
  {
   "cell_type": "code",
   "execution_count": null,
   "metadata": {},
   "outputs": [],
   "source": [
    "# delete a key : two methods\n",
    "deletedValue = player.pop('items', None)\n",
    "print(deletedValue)\n",
    "print(player)\n",
    "\n",
    "# if you are certain the key exists\n",
    "player[\"items\"] = ['bottle', 'laptop']\n",
    "del player['items']\n",
    "print(player)"
   ]
  },
  {
   "cell_type": "markdown",
   "metadata": {
    "slideshow": {
     "slide_type": "slide"
    }
   },
   "source": [
    "# Explore a dict()"
   ]
  },
  {
   "cell_type": "code",
   "execution_count": null,
   "metadata": {},
   "outputs": [],
   "source": [
    "# first populate the dict\n",
    "player = {'name':'gael',   'inventory': ['rose', 'pencil', 'smartphone'],   'grade':'noob'}\n",
    "print('player =', player)\n",
    "# get list of keys\n",
    "print( player.keys(), type(player.keys()), len(player.keys()) )\n",
    "# get list of values\n",
    "print( player.values(), type(player.values()), len(player.values()) )"
   ]
  },
  {
   "cell_type": "markdown",
   "metadata": {
    "slideshow": {
     "slide_type": "slide"
    }
   },
   "source": [
    "### Check if a key exist:"
   ]
  },
  {
   "cell_type": "code",
   "execution_count": null,
   "metadata": {},
   "outputs": [],
   "source": [
    "nameFieldExists = 'name' in player\n",
    "print( 'Does the \"name\" field exists in the dictionary \"player\" ?', nameFieldExists)"
   ]
  },
  {
   "cell_type": "code",
   "execution_count": null,
   "metadata": {},
   "outputs": [],
   "source": [
    "itemsFieldExists = 'items' in player\n",
    "print( 'Does the \"items\" field exists in the dictionary \"player\" ?', itemsFieldExists)"
   ]
  },
  {
   "cell_type": "markdown",
   "metadata": {
    "slideshow": {
     "slide_type": "slide"
    }
   },
   "source": [
    "### Iterate over fields in a dict"
   ]
  },
  {
   "cell_type": "code",
   "execution_count": null,
   "metadata": {},
   "outputs": [],
   "source": [
    "for key, value in player.items():\n",
    "    print('key =', key, ' ; value =', value)"
   ]
  },
  {
   "cell_type": "markdown",
   "metadata": {
    "slideshow": {
     "slide_type": "slide"
    }
   },
   "source": [
    "### Get or add field and value\n",
    "`setdefault(key, defaultValue)` returns the value associated to the key. If the key does not exist, it adds the key associated to `defaultValue`."
   ]
  },
  {
   "cell_type": "code",
   "execution_count": null,
   "metadata": {},
   "outputs": [],
   "source": [
    "player.setdefault('age', 20)\n",
    "print(player)"
   ]
  },
  {
   "cell_type": "markdown",
   "metadata": {
    "slideshow": {
     "slide_type": "slide"
    }
   },
   "source": [
    "### Safely access non present field\n",
    "Using `player[key]` will yield an error.\n",
    "You can safely try to access a field by using `player.get(key)`. \n",
    "Returns the value if the key exists, else returns None.\n",
    "\n",
    "``\n",
    "(in pseudo algo)\n",
    "IF key exists:\n",
    "    RETURN the associated value\n",
    "ELSE: \n",
    "    RETURN None\n",
    "``"
   ]
  },
  {
   "cell_type": "code",
   "execution_count": null,
   "metadata": {},
   "outputs": [],
   "source": [
    "print( player['unknownKey'] ) # gives an error"
   ]
  },
  {
   "cell_type": "code",
   "execution_count": null,
   "metadata": {},
   "outputs": [],
   "source": [
    "print(player)\n",
    "print( player.get('unknownKey')) # returns None\n",
    "print( player.get('name') ) # it exists"
   ]
  },
  {
   "cell_type": "markdown",
   "metadata": {
    "slideshow": {
     "slide_type": "slide"
    }
   },
   "source": [
    "# Represent bigger data\n",
    "- With variable types, especially dict() and list() you can handle more interesting data.\n",
    "- You will often need to represent **nested data**"
   ]
  },
  {
   "cell_type": "code",
   "execution_count": null,
   "metadata": {},
   "outputs": [],
   "source": [
    "# example\n",
    "user = {\n",
    "    'name': 'john', # str()\n",
    "    'age': 19, # int()\n",
    "    'money': 24.56, # float()\n",
    "    'job': 'student', # str()\n",
    "    'friends': ['jack', 'paul'], # list() of two str()\n",
    "    'stats': {\n",
    "        'social': 'friendly', # str()\n",
    "        'seriousness': 'bad', # str()\n",
    "        'formerEmployeee': False # bool()\n",
    "    } # dict()\n",
    "} # dict()\n",
    "\n",
    "print(user)"
   ]
  },
  {
   "cell_type": "markdown",
   "metadata": {
    "slideshow": {
     "slide_type": "slide"
    }
   },
   "source": [
    "# Basic Role Playing Game (2)\n",
    "* Objective: construct a textual role playing game. The game is only text with choices, conditions to verify the choices and player status.\n",
    "* To do so you need one additional function (see below)\n",
    "\n",
    "## Rules\n",
    "* Player advance from a room to another by textually selecting one of the rooms. \n",
    "* Player starts with 200 hp (health points)\n",
    "* A bad decision cost the player to lose 25 hp.\n",
    "* While the player HP is greater than 0, continue playing\n",
    "* For each actions, display it from a list of Strings\n",
    "* **Represent data as dictionaries or a big nested dict()**"
   ]
  },
  {
   "cell_type": "code",
   "execution_count": null,
   "metadata": {
    "slideshow": {
     "slide_type": "slide"
    }
   },
   "outputs": [],
   "source": [
    "# Examples\n",
    "# Get the input function and display a greeting message\n",
    "print(\"Hello Player One, what's your name?\")\n",
    "playerName = input()\n",
    "print(\"Welcome\", playerName)\n",
    "\n",
    "choice = \"\"\n",
    "choices = [\"first\", \"second\"]\n",
    "while choice not in choices:\n",
    "    print('''Your are in a tiny room. Humidity fills the air but your stomach reminds you that you are very hungry.\n",
    "    You are in front of two doors. Behind the first one you can hear muffled voices. \n",
    "    Behind the second one you can smell something intriguing.''')\n",
    "    print('Which door do you choose? Type', choices[0], 'for the first room and', choices[1], 'for the second room.')\n",
    "    choice = input()\n",
    "    if choice == 'first':\n",
    "        print('Game Over! Try again', playerName)\n",
    "    elif choice == 'second':\n",
    "        print('Upon opening the door, you can see a huge fest with exquisite meals everywhere.')\n",
    "    else:\n",
    "        print('WRONG : Possible choices', choices)\n"
   ]
  },
  {
   "cell_type": "markdown",
   "metadata": {
    "slideshow": {
     "slide_type": "subslide"
    }
   },
   "source": [
    "* Complete the Role Playing Game skeleton by adding choices, player HP, etc. \n",
    "* *Tip: this kind of game is a decision tree of choices.*\n",
    "* Use while to keep the playing going on until certain conditions\n",
    "* Use while to check the player hp\n",
    "* Use for to display player' items or actions"
   ]
  },
  {
   "cell_type": "markdown",
   "metadata": {
    "slideshow": {
     "slide_type": "slide"
    }
   },
   "source": [
    "# Install local python environnement\n",
    "At home you may want to use Python locally. Here are the steps:\n",
    "1. Download the latest Python (Python3 not 2) from here: [https://www.python.org/downloads/](https://www.python.org/downloads/)\n",
    "2. Install it (if you are using Ubuntu 16.04 you already have Python installed)\n",
    "\n",
    "Start using it:\n",
    "- Open terminal(unix/mac) or CommandLine(windows), type `python` to start an interactive python environnement\n",
    "- Create a file named `my_super_program.py` and type `print('hello')` inside. Execute this file by typing `python3 my_super_program.py`.\n",
    "\n",
    "To code you mmay need an IDE for smoother coding. I would suggest [Visual Studio Code](https://code.visualstudio.com/Download). For a python only IDE the best one would be [PyCharm](https://www.jetbrains.com/pycharm/)."
   ]
  }
 ],
 "metadata": {
  "celltoolbar": "Diaporama",
  "kernelspec": {
   "display_name": "Python 3",
   "language": "python",
   "name": "python3"
  },
  "language_info": {
   "codemirror_mode": {
    "name": "ipython",
    "version": 3
   },
   "file_extension": ".py",
   "mimetype": "text/x-python",
   "name": "python",
   "nbconvert_exporter": "python",
   "pygments_lexer": "ipython3",
   "version": "3.7.4"
  },
  "livereveal": {
   "autolaunch": true,
   "scroll": true,
   "transition": "none"
  }
 },
 "nbformat": 4,
 "nbformat_minor": 2
}
